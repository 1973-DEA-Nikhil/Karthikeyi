{
 "cells": [
  {
   "cell_type": "code",
   "execution_count": 2,
   "id": "c6a0d170-04b4-4f32-a107-6fb939c7edfb",
   "metadata": {},
   "outputs": [],
   "source": [
    "import ast"
   ]
  },
  {
   "cell_type": "code",
   "execution_count": 23,
   "id": "45296698-8138-42c8-83ae-64093a99abd3",
   "metadata": {},
   "outputs": [
    {
     "name": "stdin",
     "output_type": "stream",
     "text": [
      " [{'user_id': 1, 'name': 'Alice', 'age': 25, 'city': 'New York'},  {'user_id': 2, 'name': 'Bob', 'age': 30, 'city': 'San Francisco'}]\n"
     ]
    },
    {
     "name": "stdout",
     "output_type": "stream",
     "text": [
      "{1: {'name': 'Alice', 'age': 25, 'city': 'New York'}, 2: {'name': 'Bob', 'age': 30, 'city': 'San Francisco'}}\n"
     ]
    }
   ],
   "source": [
    "def Transform(data):\n",
    "    result={}\n",
    "    for d in data:\n",
    "        user_id=d.pop('user_id')\n",
    "        #print(user_id)\n",
    "        result[user_id]=d\n",
    "    \n",
    "input1=input()\n",
    "listof_dict=ast.literal_eval(input1)\n",
    "print(Transform(listof_dict))"
   ]
  },
  {
   "cell_type": "code",
   "execution_count": 36,
   "id": "9fe0b1f1-095d-4703-bae1-ba74c4e51ecd",
   "metadata": {},
   "outputs": [
    {
     "name": "stdout",
     "output_type": "stream",
     "text": [
      "Enter log entries (press Enter with no input to stop):\n"
     ]
    },
    {
     "name": "stdin",
     "output_type": "stream",
     "text": [
      "  [2024-01-01 10:00:00] 1 start\n",
      "  [2024-01-01 10:05:00] 1 stop\n",
      "  [2024-01-01 10:00:00] 2 start\n",
      "  [2024-01-01 10:10:00] 2 stop\n",
      " \n"
     ]
    },
    {
     "name": "stdout",
     "output_type": "stream",
     "text": [
      "Active time in seconds per user: {1: 300.0, 2: 600.0}\n"
     ]
    }
   ],
   "source": [
    "from datetime import datetime\n",
    "def parse_log_entry(log):\n",
    "    parts = log.split()\n",
    "    timestamp = parts[0] + ' ' + parts[1]\n",
    "    user_id = int(parts[2])\n",
    "    event = parts[3]\n",
    "    time = datetime.strptime(timestamp, \"[%Y-%m-%d %H:%M:%S]\")\n",
    "    return user_id, time, event\n",
    "\n",
    "def calculate_active_seconds(logs):\n",
    "    start_times = {}\n",
    "    active_seconds = {}\n",
    "\n",
    "    for log in logs:\n",
    "        user_id, time, event = parse_log_entry(log)\n",
    "        \n",
    "        if event == \"start\":\n",
    "            start_times[user_id] = time\n",
    "        elif event == \"stop\" and user_id in start_times:\n",
    "            start_time = start_times.pop(user_id)\n",
    "            duration = (time - start_time).total_seconds()  # Calculate seconds\n",
    "            active_seconds[user_id] = active_seconds.get(user_id, 0) + duration\n",
    "    return active_seconds\n",
    "\n",
    "def get_logs():\n",
    "    logs = []\n",
    "    print(\"Enter log entries (press Enter with no input to stop):\")\n",
    "    while True:\n",
    "        log = input()\n",
    "        if not log: \n",
    "            break\n",
    "        logs.append(log)\n",
    "    return logs\n",
    "\n",
    "def main():\n",
    "    logs = get_logs()  # Get dynamic logs input from user\n",
    "    active_seconds = calculate_active_seconds(logs)\n",
    "    return active_seconds\n",
    "active_seconds = main()\n",
    "print(\"Active time in seconds per user:\", active_seconds)\n"
   ]
  },
  {
   "cell_type": "code",
   "execution_count": 35,
   "id": "ee2c323b-f493-44fa-810e-a5914de4f9a5",
   "metadata": {},
   "outputs": [
    {
     "name": "stdin",
     "output_type": "stream",
     "text": [
      " [     {\"id\": \"1\", \"name\": \"Alice\", \"email\": \"alice@example.com\"},     {\"id\": \"2\", \"name\": \"Bob\", \"email\": \"bob@example.com\"},     {\"id\": \"3\", \"name\": \"Alice\", \"email\": \"alice@example.com\"} ]\n"
     ]
    },
    {
     "name": "stdout",
     "output_type": "stream",
     "text": [
      "[{'id': '1', 'name': 'Alice', 'email': 'alice@example.com'}, {'id': '2', 'name': 'Bob', 'email': 'bob@example.com'}]\n"
     ]
    }
   ],
   "source": [
    "def remove_duplicates(records):\n",
    "    unique_mail=set()\n",
    "    unique_rec=[]\n",
    "    for record in records:\n",
    "        if record[\"email\"] not in unique_mail:\n",
    "            unique_rec.append(record)\n",
    "            unique_mail.add(record[\"email\"])\n",
    "    return unique_rec\n",
    "\n",
    "records=input()\n",
    "listof_dict=ast.literal_eval(records)\n",
    "print(remove_duplicates(listof_dict))"
   ]
  },
  {
   "cell_type": "code",
   "execution_count": 46,
   "id": "cce8806e-5019-4d1c-be33-f350f1f10863",
   "metadata": {},
   "outputs": [
    {
     "name": "stdin",
     "output_type": "stream",
     "text": [
      " 10 20 30 40 50\n",
      "Enter window size:  3\n"
     ]
    },
    {
     "name": "stdout",
     "output_type": "stream",
     "text": [
      "[60, 90, 120]\n"
     ]
    }
   ],
   "source": [
    "def window_agg(l, window):\n",
    "    return [sum(l[i:i+window]) for i in range(len(l) - window + 1)]\n",
    "\n",
    "\n",
    "l = list(map(int, input().split()))\n",
    "window = int(input())\n",
    "print(window_agg(l, window))"
   ]
  },
  {
   "cell_type": "code",
   "execution_count": 48,
   "id": "7fb37571-1a4b-4d50-8a63-93242c2043cc",
   "metadata": {},
   "outputs": [
    {
     "name": "stdin",
     "output_type": "stream",
     "text": [
      " {     \"user\": {         \"id\": 1,         \"details\": {             \"name\": \"Alice\",             \"address\": {                 \"city\": \"New York\",                 \"zipcode\": 10001             }         }     } }\n"
     ]
    },
    {
     "name": "stdout",
     "output_type": "stream",
     "text": [
      "{'user.id': 1, 'user.details.name': 'Alice', 'user.details.address.city': 'New York', 'user.details.address.zipcode': 10001}\n"
     ]
    }
   ],
   "source": [
    "import json\n",
    "\n",
    "def flatten_dict(d, parent_key=''):\n",
    "    flat_dict = {}\n",
    "    for k, v in d.items():\n",
    "        new_key = parent_key + '.' + k if parent_key else k\n",
    "        if isinstance(v, dict):\n",
    "            flat_dict.update(flatten_dict(v, new_key))\n",
    "        else:\n",
    "            flat_dict[new_key] = v\n",
    "    return flat_dict\n",
    "\n",
    "user_input = input()\n",
    "\n",
    "# Convert the input to a dictionary\n",
    "nested_dict = json.loads(user_input)\n",
    "flat_dict = flatten_dict(nested_dict)\n",
    "print(flat_dict)"
   ]
  },
  {
   "cell_type": "code",
   "execution_count": 49,
   "id": "4585bee7-0516-4f3d-a411-9931b37ff599",
   "metadata": {},
   "outputs": [
    {
     "name": "stdin",
     "output_type": "stream",
     "text": [
      " apple banana apple orange banana apple\n",
      " 2\n"
     ]
    },
    {
     "name": "stdout",
     "output_type": "stream",
     "text": [
      "Top N frequent words: ['apple', 'banana']\n"
     ]
    }
   ],
   "source": [
    "from collections import Counter\n",
    "\n",
    "def top_n_frequent_words(words, n):\n",
    "    word_count = Counter(words)\n",
    "    sorted_words = sorted(word_count.keys(), key=lambda word: (-word_count[word], word))\n",
    "    return sorted_words[:n]\n",
    "\n",
    "words = input().split()\n",
    "n = int(input())\n",
    "result = top_n_frequent_words(words, n)\n",
    "print(\"Top N frequent words:\", result)\n"
   ]
  },
  {
   "cell_type": "code",
   "execution_count": 50,
   "id": "eb3a7d92-171d-4a95-a497-2460aef06fcc",
   "metadata": {},
   "outputs": [
    {
     "name": "stdin",
     "output_type": "stream",
     "text": [
      " 31-12-2024 01-01-2024\n"
     ]
    },
    {
     "name": "stdout",
     "output_type": "stream",
     "text": [
      "Reformatted dates: ['2024-12-31', '2024-01-01']\n"
     ]
    }
   ],
   "source": [
    "def reformat_dates(dates):\n",
    "    return [f\"{date[6:]}-{date[3:5]}-{date[:2]}\" for date in dates]\n",
    "\n",
    "dates = input().split()\n",
    "result = reformat_dates(dates)\n",
    "print(\"Reformatted dates:\", result)\n"
   ]
  },
  {
   "cell_type": "code",
   "execution_count": 56,
   "id": "1eab5bc3-5117-4f7b-9d89-bf1ac6344113",
   "metadata": {},
   "outputs": [
    {
     "name": "stdin",
     "output_type": "stream",
     "text": [
      "Enter a list of JSON objects (each object should have 'name', 'age', and 'location'):  [{\"name\": \"Alice\", \"age\": 25, \"location\": \"New York\"}, {\"name\": \"Bob\", \"age\": 30, \"location\": \"San Francisco\"}]\n"
     ]
    },
    {
     "name": "stdout",
     "output_type": "stream",
     "text": [
      "Updated data: [{'name': 'Alice', 'age': 25, 'city': 'New York'}, {'name': 'Bob', 'age': 30, 'city': 'San Francisco'}]\n"
     ]
    }
   ],
   "source": [
    "def rename_fields(data):\n",
    "    # Update 'location' to 'city' in each dictionary\n",
    "    for item in data:\n",
    "        item['city'] = item.pop('location')  # Rename key in place\n",
    "    return data\n",
    "\n",
    "# Dynamic input from the user\n",
    "import json\n",
    "user_input = input(\"Enter a list of JSON objects (each object should have 'name', 'age', and 'location'): \")\n",
    "data = json.loads(user_input)\n",
    "result = rename_fields(data)\n",
    "print(\"Updated data:\", result)\n"
   ]
  },
  {
   "cell_type": "code",
   "execution_count": 57,
   "id": "26d803c1-a137-4a01-9ecf-42b6e55e5727",
   "metadata": {},
   "outputs": [
    {
     "name": "stdin",
     "output_type": "stream",
     "text": [
      "Enter the window size:  3\n",
      "Enter next value (or 'q' to quit):  10\n",
      "Enter next value (or 'q' to quit):  20\n",
      "Enter next value (or 'q' to quit):  30\n",
      "Enter next value (or 'q' to quit):  40\n",
      "Enter next value (or 'q' to quit):  q\n"
     ]
    },
    {
     "name": "stdout",
     "output_type": "stream",
     "text": [
      "Moving Average: 10.00\n",
      "Moving Average: 15.00\n",
      "Moving Average: 20.00\n",
      "Moving Average: 30.00\n"
     ]
    }
   ],
   "source": [
    "def moving_average(k, values):\n",
    "    window = []  # To store the last k values\n",
    "    averages = []  # To store the moving averages\n",
    "\n",
    "    for val in values:\n",
    "        window.append(val)  # Add new value to the window\n",
    "\n",
    "        # If the window exceeds the size k, remove the oldest value\n",
    "        if len(window) > k:\n",
    "            window.pop(0)\n",
    "\n",
    "        # Calculate the current moving average\n",
    "        avg = sum(window) / len(window)\n",
    "        averages.append(avg)  # Store the average\n",
    "\n",
    "    return averages\n",
    "\n",
    "# Take dynamic input for window size\n",
    "k = int(input(\"Enter the window size: \"))\n",
    "values = []\n",
    "\n",
    "# Continuously take input for new values\n",
    "while True:\n",
    "    val = input(\"Enter next value (or 'q' to quit): \")\n",
    "    if val.lower() == 'q':\n",
    "        break\n",
    "    values.append(int(val))  # Append the value to the list\n",
    "\n",
    "# Get the moving averages\n",
    "result = moving_average(k, values)\n",
    "\n",
    "# Print the moving averages\n",
    "for avg in result:\n",
    "    print(f\"Moving Average: {avg:.2f}\")\n"
   ]
  },
  {
   "cell_type": "code",
   "execution_count": 58,
   "id": "64a24946-0fce-4541-8c13-5235b23a419f",
   "metadata": {},
   "outputs": [
    {
     "name": "stdin",
     "output_type": "stream",
     "text": [
      "Enter employees as a JSON list:  [{\"id\": 1, \"name\": \"Alice\", \"department_id\": 2}, {\"id\": 2, \"name\": \"Bob\", \"department_id\": 1}]\n",
      "Enter departments as a JSON list:  [{\"id\": 1, \"department_name\": \"Engineering\"}, {\"id\": 2, \"department_name\": \"Marketing\"}]\n"
     ]
    },
    {
     "name": "stdout",
     "output_type": "stream",
     "text": [
      "Merged Data: [\n",
      "    {\n",
      "        \"id\": 1,\n",
      "        \"name\": \"Alice\",\n",
      "        \"department_id\": 2,\n",
      "        \"department_name\": \"Marketing\"\n",
      "    },\n",
      "    {\n",
      "        \"id\": 2,\n",
      "        \"name\": \"Bob\",\n",
      "        \"department_id\": 1,\n",
      "        \"department_name\": \"Engineering\"\n",
      "    }\n",
      "]\n"
     ]
    }
   ],
   "source": [
    "import json\n",
    "\n",
    "def merge_data(employees, departments):\n",
    "    # Create a dictionary to map department_id to department_name\n",
    "    department_map = {dept['id']: dept['department_name'] for dept in departments}\n",
    "\n",
    "    # Add department_name to each employee based on department_id\n",
    "    for employee in employees:\n",
    "        employee['department_name'] = department_map.get(employee['department_id'], 'Unknown')\n",
    "\n",
    "    return employees\n",
    "\n",
    "employees_input = input(\"Enter employees as a JSON list: \")\n",
    "employees = json.loads(employees_input)\n",
    "\n",
    "# Get dynamic input for departments\n",
    "departments_input = input(\"Enter departments as a JSON list: \")\n",
    "departments = json.loads(departments_input)\n",
    "\n",
    "# Merge and print the data\n",
    "merged_data = merge_data(employees, departments)\n",
    "print(\"Merged Data:\", json.dumps(merged_data, indent=4))\n"
   ]
  },
  {
   "cell_type": "code",
   "execution_count": null,
   "id": "fa72dc7b-99ca-4c65-a907-1936f76614dc",
   "metadata": {},
   "outputs": [],
   "source": []
  }
 ],
 "metadata": {
  "kernelspec": {
   "display_name": "Python 3 (ipykernel)",
   "language": "python",
   "name": "python3"
  },
  "language_info": {
   "codemirror_mode": {
    "name": "ipython",
    "version": 3
   },
   "file_extension": ".py",
   "mimetype": "text/x-python",
   "name": "python",
   "nbconvert_exporter": "python",
   "pygments_lexer": "ipython3",
   "version": "3.10.1"
  }
 },
 "nbformat": 4,
 "nbformat_minor": 5
}
